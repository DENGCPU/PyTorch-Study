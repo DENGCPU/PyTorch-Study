{
  "nbformat": 4,
  "nbformat_minor": 0,
  "metadata": {
    "colab": {
      "provenance": [],
      "authorship_tag": "ABX9TyNNBvbDY7yWRh4VzKK5agKj",
      "include_colab_link": true
    },
    "kernelspec": {
      "name": "python3",
      "display_name": "Python 3"
    },
    "language_info": {
      "name": "python"
    }
  },
  "cells": [
    {
      "cell_type": "markdown",
      "metadata": {
        "id": "view-in-github",
        "colab_type": "text"
      },
      "source": [
        "<a href=\"https://colab.research.google.com/github/DENGCPU/PyTorch-Study/blob/main/PyTorch%E7%A5%9E%E7%BB%8F%E7%BD%91%E7%BD%91%E7%BB%9C.ipynb\" target=\"_parent\"><img src=\"https://colab.research.google.com/assets/colab-badge.svg\" alt=\"Open In Colab\"/></a>"
      ]
    },
    {
      "cell_type": "code",
      "execution_count": 1,
      "metadata": {
        "colab": {
          "base_uri": "https://localhost:8080/"
        },
        "id": "Ozo1UAWTJUxu",
        "outputId": "51b035ce-fc07-4490-f077-a5eb429867b4"
      },
      "outputs": [
        {
          "output_type": "stream",
          "name": "stdout",
          "text": [
            "Net(\n",
            "  (conv1): Conv2d(1, 6, kernel_size=(5, 5), stride=(1, 1))\n",
            "  (conv2): Conv2d(6, 16, kernel_size=(5, 5), stride=(1, 1))\n",
            "  (fc1): Linear(in_features=400, out_features=120, bias=True)\n",
            "  (fc2): Linear(in_features=120, out_features=84, bias=True)\n",
            "  (fc3): Linear(in_features=84, out_features=10, bias=True)\n",
            ")\n"
          ]
        }
      ],
      "source": [
        "# 定义神经网络\n",
        "import torch\n",
        "import torch.nn as nn\n",
        "import torch.nn.functional as F\n",
        "\n",
        "\n",
        "class Net(nn.Module):\n",
        "\n",
        "    def __init__(self):\n",
        "        super(Net, self).__init__()\n",
        "        # 1 input image channel, 6 output channels, 5x5 square convolution\n",
        "        # kernel\n",
        "        self.conv1 = nn.Conv2d(1, 6, 5)\n",
        "        self.conv2 = nn.Conv2d(6, 16, 5)\n",
        "        # an affine operation: y = Wx + b\n",
        "        self.fc1 = nn.Linear(16 * 5 * 5, 120)\n",
        "        self.fc2 = nn.Linear(120, 84)\n",
        "        self.fc3 = nn.Linear(84, 10)\n",
        "\n",
        "    def forward(self, x):\n",
        "        # Max pooling over a (2, 2) window\n",
        "        x = F.max_pool2d(F.relu(self.conv1(x)), (2, 2))\n",
        "        # If the size is a square you can only specify a single number\n",
        "        x = F.max_pool2d(F.relu(self.conv2(x)), 2)\n",
        "        x = x.view(-1, self.num_flat_features(x))\n",
        "        x = F.relu(self.fc1(x))\n",
        "        x = F.relu(self.fc2(x))\n",
        "        x = self.fc3(x)\n",
        "        return x\n",
        "\n",
        "    def num_flat_features(self, x):\n",
        "        size = x.size()[1:]  # all dimensions except the batch dimension\n",
        "        num_features = 1\n",
        "        for s in size:\n",
        "            num_features *= s\n",
        "        return num_features\n",
        "\n",
        "\n",
        "net = Net()\n",
        "print(net)"
      ]
    },
    {
      "cell_type": "code",
      "source": [
        "params = list(net.parameters())\n",
        "print(len(params))\n",
        "print(params[0].size()) # conv1's .weight"
      ],
      "metadata": {
        "colab": {
          "base_uri": "https://localhost:8080/"
        },
        "id": "jnn3poGHJtqr",
        "outputId": "d60ba5c3-27d4-4d8b-b0d2-35233f648276"
      },
      "execution_count": 2,
      "outputs": [
        {
          "output_type": "stream",
          "name": "stdout",
          "text": [
            "10\n",
            "torch.Size([6, 1, 5, 5])\n"
          ]
        }
      ]
    },
    {
      "cell_type": "code",
      "source": [
        "# MNIST数据集期望输入维度是32X32 , 所以需要将输入的图片维度转换\n",
        "input = torch.randn(1,1,32,32)\n",
        "out = net(input)\n",
        "print(out)"
      ],
      "metadata": {
        "colab": {
          "base_uri": "https://localhost:8080/"
        },
        "id": "c206iTw4J-G8",
        "outputId": "7493578e-6190-4fe7-eb8f-14e0ce6fdb5f"
      },
      "execution_count": 3,
      "outputs": [
        {
          "output_type": "stream",
          "name": "stdout",
          "text": [
            "tensor([[ 0.0657,  0.0405, -0.1459, -0.0732, -0.0718,  0.0422,  0.0698, -0.0418,\n",
            "          0.0379,  0.0775]], grad_fn=<AddmmBackward0>)\n"
          ]
        }
      ]
    },
    {
      "cell_type": "code",
      "source": [
        "# 将所有参数缓存器置零，用随机的梯度来方向传播\n",
        "net.zero_grad()\n",
        "out.backward(torch.randn(1,10))\n",
        "\n",
        "# 计算损失\n",
        "output = net(input)\n",
        "target = torch.randn(10)\n",
        "target = target.view(1,-1)\n",
        "criterion = nn.MSELoss()  # 均方误差\n",
        "loss = criterion(output,target)\n",
        "print(loss)"
      ],
      "metadata": {
        "colab": {
          "base_uri": "https://localhost:8080/"
        },
        "id": "l1PAQl-zKXfo",
        "outputId": "af9558fc-bfc1-45cf-d288-d3ff3f48308e"
      },
      "execution_count": 4,
      "outputs": [
        {
          "output_type": "stream",
          "name": "stdout",
          "text": [
            "tensor(1.4830, grad_fn=<MseLossBackward0>)\n"
          ]
        }
      ]
    },
    {
      "cell_type": "code",
      "source": [
        "# 反向传播步骤\n",
        "# input -> conv2d -> relu -> maxpool2d -> conv2d -> relu -> maxpool2d\n",
        "#       -> view -> linear -> relu -> linear -> relu -> linear\n",
        "#       -> MSELoss\n",
        "#       -> loss"
      ],
      "metadata": {
        "id": "uJqpNMctLGKH"
      },
      "execution_count": null,
      "outputs": []
    },
    {
      "cell_type": "code",
      "source": [
        "print(loss.grad_fn)"
      ],
      "metadata": {
        "colab": {
          "base_uri": "https://localhost:8080/"
        },
        "id": "_HcdXblILp4d",
        "outputId": "f5e44aeb-666c-4a4e-950a-1c5e24c9c11a"
      },
      "execution_count": 5,
      "outputs": [
        {
          "output_type": "stream",
          "name": "stdout",
          "text": [
            "<MseLossBackward0 object at 0x79d5fd495a20>\n"
          ]
        }
      ]
    },
    {
      "cell_type": "code",
      "source": [
        "print(loss.grad_fn.next_functions[0][0])"
      ],
      "metadata": {
        "colab": {
          "base_uri": "https://localhost:8080/"
        },
        "id": "A3S0y-lYLu6Z",
        "outputId": "652ef21f-3286-4ff6-e8db-dcb3736fde94"
      },
      "execution_count": 6,
      "outputs": [
        {
          "output_type": "stream",
          "name": "stdout",
          "text": [
            "<AddmmBackward0 object at 0x79d5fbe2b340>\n"
          ]
        }
      ]
    },
    {
      "cell_type": "code",
      "source": [
        "print(loss.grad_fn.next_functions[0][0].next_functions[0][0])"
      ],
      "metadata": {
        "colab": {
          "base_uri": "https://localhost:8080/"
        },
        "id": "TkGzZDgBL9Kv",
        "outputId": "c6035549-0b71-468f-b0bd-0876f6bd80c0"
      },
      "execution_count": 7,
      "outputs": [
        {
          "output_type": "stream",
          "name": "stdout",
          "text": [
            "<AccumulateGrad object at 0x79d5fbe2bfd0>\n"
          ]
        }
      ]
    },
    {
      "cell_type": "code",
      "source": [
        "# 将现存的梯度清零\n",
        "net.zero_grad()\n",
        "print('conv1.bias.grad before backward:', net.conv1.bias.grad)\n",
        "\n",
        "loss.backward()\n",
        "print('conv1.bias.grad after backward:', net.conv1.bias.grad)"
      ],
      "metadata": {
        "colab": {
          "base_uri": "https://localhost:8080/"
        },
        "id": "N5HN-2KbMFXf",
        "outputId": "4c6c83b9-4a28-497f-a715-b51ce9b15ca3"
      },
      "execution_count": 8,
      "outputs": [
        {
          "output_type": "stream",
          "name": "stdout",
          "text": [
            "conv1.bias.grad before backward: None\n",
            "conv1.bias.grad after backward: tensor([ 0.0045,  0.0005,  0.0037,  0.0085,  0.0166, -0.0021])\n"
          ]
        }
      ]
    },
    {
      "cell_type": "code",
      "source": [
        "# 更新神经网络参数\n",
        "# weight = weight - learning_rate * gradient\n",
        "learning_rate = 0.01\n",
        "for f in net.parameters():\n",
        "  f.data.sub_(f.grad.data * learning_rate)"
      ],
      "metadata": {
        "id": "DbXQn2vqMhJa"
      },
      "execution_count": 9,
      "outputs": []
    },
    {
      "cell_type": "code",
      "source": [
        "# 或者使用torch.optim包提供的更新方法\n",
        "import torch.optim as optim\n",
        "# 创建optimizer\n",
        "optimizer = optim.SGD(net.parameters(),lr=0.01)\n",
        "\n",
        "# 在训练loop中\n",
        "optimizer.zero_grad() # zero the gradient buffers\n",
        "output = net(input)\n",
        "loss = criterion(output,target)\n",
        "loss.backward()\n",
        "optimizer.step()  #执行更新"
      ],
      "metadata": {
        "id": "vFzGo2PgNEhM"
      },
      "execution_count": 10,
      "outputs": []
    }
  ]
}