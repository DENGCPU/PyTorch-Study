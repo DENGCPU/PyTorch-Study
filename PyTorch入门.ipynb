{
  "nbformat": 4,
  "nbformat_minor": 0,
  "metadata": {
    "colab": {
      "provenance": [],
      "authorship_tag": "ABX9TyMPWoeyhHpeyn5xXZwfUeme",
      "include_colab_link": true
    },
    "kernelspec": {
      "name": "python3",
      "display_name": "Python 3"
    },
    "language_info": {
      "name": "python"
    }
  },
  "cells": [
    {
      "cell_type": "markdown",
      "metadata": {
        "id": "view-in-github",
        "colab_type": "text"
      },
      "source": [
        "<a href=\"https://colab.research.google.com/github/DENGCPU/PyTorch-Study/blob/main/PyTorch%E5%85%A5%E9%97%A8.ipynb\" target=\"_parent\"><img src=\"https://colab.research.google.com/assets/colab-badge.svg\" alt=\"Open In Colab\"/></a>"
      ]
    },
    {
      "cell_type": "code",
      "execution_count": null,
      "metadata": {
        "id": "mX3dHT21ZeTd"
      },
      "outputs": [],
      "source": [
        "# Tensors(张量)\n",
        "# 类似于Numpy的ndarrays，同时可以使用GPU计算"
      ]
    },
    {
      "cell_type": "code",
      "source": [
        "from __future__ import print_function\n",
        "import torch\n",
        "\n",
        "x = torch.empty(5,3)\n",
        "print(x)"
      ],
      "metadata": {
        "colab": {
          "base_uri": "https://localhost:8080/"
        },
        "id": "yJmBw9HLZ2Ag",
        "outputId": "22b77990-4d62-45d4-c200-c718adab410e"
      },
      "execution_count": null,
      "outputs": [
        {
          "output_type": "stream",
          "name": "stdout",
          "text": [
            "tensor([[8.3959e-33, 1.3563e-19, 2.8624e+20],\n",
            "        [6.9785e+22, 6.6554e-33, 1.3563e-19],\n",
            "        [1.3563e-19, 1.6114e-19, 1.8308e+22],\n",
            "        [7.2131e+22, 1.5793e-19, 5.2968e+10],\n",
            "        [3.3646e+03, 1.7730e+28, 3.5606e+09]])\n"
          ]
        }
      ]
    },
    {
      "cell_type": "code",
      "source": [
        "# 构造一个随机初始化矩阵\n",
        "x =  torch.rand(5,3)\n",
        "print(x)"
      ],
      "metadata": {
        "colab": {
          "base_uri": "https://localhost:8080/"
        },
        "id": "aKOZvhIxaDez",
        "outputId": "272eae88-9562-4936-d41c-42eba3bab354"
      },
      "execution_count": null,
      "outputs": [
        {
          "output_type": "stream",
          "name": "stdout",
          "text": [
            "tensor([[0.5516, 0.2178, 0.2251],\n",
            "        [0.8171, 0.5019, 0.3120],\n",
            "        [0.8913, 0.9759, 0.6535],\n",
            "        [0.0100, 0.2018, 0.1359],\n",
            "        [0.5960, 0.3069, 0.2796]])\n"
          ]
        }
      ]
    },
    {
      "cell_type": "code",
      "source": [
        "# 构造一个全是0，数据类型是long的矩阵\n",
        "x = torch.zeros(5,3,dtype=torch.long)\n",
        "print(x)"
      ],
      "metadata": {
        "colab": {
          "base_uri": "https://localhost:8080/"
        },
        "id": "HOEHQHN_aMcI",
        "outputId": "041d7eea-28cc-4a13-acdc-4a57402a245f"
      },
      "execution_count": null,
      "outputs": [
        {
          "output_type": "stream",
          "name": "stdout",
          "text": [
            "tensor([[0, 0, 0],\n",
            "        [0, 0, 0],\n",
            "        [0, 0, 0],\n",
            "        [0, 0, 0],\n",
            "        [0, 0, 0]])\n"
          ]
        }
      ]
    },
    {
      "cell_type": "code",
      "source": [
        "# 构造一个张量，直接使用数据\n",
        "x = torch.tensor([5.5,3])\n",
        "print(x)"
      ],
      "metadata": {
        "colab": {
          "base_uri": "https://localhost:8080/"
        },
        "id": "dARarUveaZlW",
        "outputId": "61c7b813-bb42-4da1-c142-3095a5e98660"
      },
      "execution_count": null,
      "outputs": [
        {
          "output_type": "stream",
          "name": "stdout",
          "text": [
            "tensor([5.5000, 3.0000])\n"
          ]
        }
      ]
    },
    {
      "cell_type": "code",
      "source": [
        "# 创建一个tensor基于已经存在的tensor\n",
        "x = x.new_ones(5,3,dtype=torch.double)\n",
        "print('x1:',x)\n",
        "\n",
        "x = torch.randn_like(x,dtype=torch.float)\n",
        "print('x2:',x)"
      ],
      "metadata": {
        "colab": {
          "base_uri": "https://localhost:8080/"
        },
        "id": "-MCuPkSBaefA",
        "outputId": "ec30f505-dfe1-4dc3-8390-89097f672366"
      },
      "execution_count": null,
      "outputs": [
        {
          "output_type": "stream",
          "name": "stdout",
          "text": [
            "x1: tensor([[1., 1., 1.],\n",
            "        [1., 1., 1.],\n",
            "        [1., 1., 1.],\n",
            "        [1., 1., 1.],\n",
            "        [1., 1., 1.]], dtype=torch.float64)\n",
            "x2: tensor([[ 0.5277, -1.1387, -0.3982],\n",
            "        [ 0.2126, -0.8091, -0.4495],\n",
            "        [ 0.0756,  0.8445,  0.2179],\n",
            "        [-1.0429,  0.3254,  0.2047],\n",
            "        [-1.3147, -0.1560, -0.8318]])\n"
          ]
        }
      ]
    },
    {
      "cell_type": "code",
      "source": [
        "# 获取维度信息\n",
        "print(x.size())"
      ],
      "metadata": {
        "colab": {
          "base_uri": "https://localhost:8080/"
        },
        "id": "zQKgi5jjbAnQ",
        "outputId": "3e2df3cf-6841-4330-9721-59fa66f5c5f5"
      },
      "execution_count": null,
      "outputs": [
        {
          "output_type": "stream",
          "name": "stdout",
          "text": [
            "torch.Size([5, 3])\n"
          ]
        }
      ]
    },
    {
      "cell_type": "code",
      "source": [
        "# 加法操作\n",
        "\n",
        "# 方法1\n",
        "y = torch.rand(5,3)\n",
        "print('x',x)\n",
        "print('y',y)\n",
        "print('x+y',x+y)"
      ],
      "metadata": {
        "colab": {
          "base_uri": "https://localhost:8080/"
        },
        "id": "RJMw36TbbIKd",
        "outputId": "c1a7a1f7-14aa-4445-ccfc-dedcb4efb665"
      },
      "execution_count": null,
      "outputs": [
        {
          "output_type": "stream",
          "name": "stdout",
          "text": [
            "x tensor([[ 0.5277, -1.1387, -0.3982],\n",
            "        [ 0.2126, -0.8091, -0.4495],\n",
            "        [ 0.0756,  0.8445,  0.2179],\n",
            "        [-1.0429,  0.3254,  0.2047],\n",
            "        [-1.3147, -0.1560, -0.8318]])\n",
            "y tensor([[0.7805, 0.2703, 0.1345],\n",
            "        [0.6806, 0.6618, 0.9375],\n",
            "        [0.0777, 0.6442, 0.1281],\n",
            "        [0.2959, 0.4272, 0.5476],\n",
            "        [0.5125, 0.1833, 0.1920]])\n",
            "x+y tensor([[ 1.3083, -0.8684, -0.2637],\n",
            "        [ 0.8932, -0.1473,  0.4880],\n",
            "        [ 0.1533,  1.4887,  0.3461],\n",
            "        [-0.7469,  0.7526,  0.7523],\n",
            "        [-0.8021,  0.0272, -0.6398]])\n"
          ]
        }
      ]
    },
    {
      "cell_type": "code",
      "source": [
        "# 方法2\n",
        "print(torch.add(x,y))"
      ],
      "metadata": {
        "colab": {
          "base_uri": "https://localhost:8080/"
        },
        "id": "_ez2xvEKbdij",
        "outputId": "976559af-400e-4031-80eb-a122e2aabf90"
      },
      "execution_count": null,
      "outputs": [
        {
          "output_type": "stream",
          "name": "stdout",
          "text": [
            "tensor([[ 1.3083, -0.8684, -0.2637],\n",
            "        [ 0.8932, -0.1473,  0.4880],\n",
            "        [ 0.1533,  1.4887,  0.3461],\n",
            "        [-0.7469,  0.7526,  0.7523],\n",
            "        [-0.8021,  0.0272, -0.6398]])\n"
          ]
        }
      ]
    },
    {
      "cell_type": "code",
      "source": [
        "# 方法3\n",
        "result =  torch.empty(5,3)\n",
        "torch.add(x,y,out=result)\n",
        "print(result)"
      ],
      "metadata": {
        "colab": {
          "base_uri": "https://localhost:8080/"
        },
        "id": "vmHYaakXbnuo",
        "outputId": "ea98e5a9-e521-4e2a-c658-180eadcb8443"
      },
      "execution_count": null,
      "outputs": [
        {
          "output_type": "stream",
          "name": "stdout",
          "text": [
            "tensor([[ 1.3083, -0.8684, -0.2637],\n",
            "        [ 0.8932, -0.1473,  0.4880],\n",
            "        [ 0.1533,  1.4887,  0.3461],\n",
            "        [-0.7469,  0.7526,  0.7523],\n",
            "        [-0.8021,  0.0272, -0.6398]])\n"
          ]
        }
      ]
    },
    {
      "cell_type": "code",
      "source": [
        "# 方法4\n",
        "# add x to y\n",
        "y.add_(x)\n",
        "print('x',x)\n",
        "print('y',y)"
      ],
      "metadata": {
        "colab": {
          "base_uri": "https://localhost:8080/"
        },
        "id": "cPf2unzNb3JL",
        "outputId": "345c834b-3c11-442c-b3d6-b4e572de3932"
      },
      "execution_count": null,
      "outputs": [
        {
          "output_type": "stream",
          "name": "stdout",
          "text": [
            "x tensor([[ 0.5277, -1.1387, -0.3982],\n",
            "        [ 0.2126, -0.8091, -0.4495],\n",
            "        [ 0.0756,  0.8445,  0.2179],\n",
            "        [-1.0429,  0.3254,  0.2047],\n",
            "        [-1.3147, -0.1560, -0.8318]])\n",
            "y tensor([[ 1.3083, -0.8684, -0.2637],\n",
            "        [ 0.8932, -0.1473,  0.4880],\n",
            "        [ 0.1533,  1.4887,  0.3461],\n",
            "        [-0.7469,  0.7526,  0.7523],\n",
            "        [-0.8021,  0.0272, -0.6398]])\n"
          ]
        }
      ]
    },
    {
      "cell_type": "code",
      "source": [
        "# 索引操作\n",
        "print(x[:,1])"
      ],
      "metadata": {
        "colab": {
          "base_uri": "https://localhost:8080/"
        },
        "id": "SKJNmZtLcCSS",
        "outputId": "a98fbb37-5cc3-4f02-d502-ff8395779389"
      },
      "execution_count": null,
      "outputs": [
        {
          "output_type": "stream",
          "name": "stdout",
          "text": [
            "tensor([-1.1387, -0.8091,  0.8445,  0.3254, -0.1560])\n"
          ]
        }
      ]
    },
    {
      "cell_type": "code",
      "source": [
        "# 改变大小\n",
        "x = torch.randn(4,4)\n",
        "y = x.view(16)\n",
        "z = x.view(-1,8) # the size -1 is inferred from other dimensions\n",
        "print(x.size(),y.size(),z.size())"
      ],
      "metadata": {
        "colab": {
          "base_uri": "https://localhost:8080/"
        },
        "id": "Wg9CK-QtcJkW",
        "outputId": "62d58554-29ee-4f4d-ae8b-45c05aca19ec"
      },
      "execution_count": null,
      "outputs": [
        {
          "output_type": "stream",
          "name": "stdout",
          "text": [
            "torch.Size([4, 4]) torch.Size([16]) torch.Size([2, 8])\n"
          ]
        }
      ]
    },
    {
      "cell_type": "code",
      "source": [
        "# 使用.item()获得张量的value\n",
        "x= torch.randn(1)\n",
        "print(x)\n",
        "print(x.item())"
      ],
      "metadata": {
        "colab": {
          "base_uri": "https://localhost:8080/"
        },
        "id": "iDvSdnqociTx",
        "outputId": "592917b2-3e1e-4e88-c6d0-c51fb332841b"
      },
      "execution_count": null,
      "outputs": [
        {
          "output_type": "stream",
          "name": "stdout",
          "text": [
            "tensor([-0.4315])\n",
            "-0.4314519762992859\n"
          ]
        }
      ]
    }
  ]
}